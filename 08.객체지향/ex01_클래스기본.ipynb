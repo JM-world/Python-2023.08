{
 "cells": [
  {
   "cell_type": "markdown",
   "metadata": {},
   "source": [
    "- 사람의 정보를 저장하는 자료 만들기"
   ]
  },
  {
   "cell_type": "code",
   "execution_count": 1,
   "metadata": {},
   "outputs": [],
   "source": [
    "# 리스트\n",
    "person_list = ['James', 175.0, 'programmer', 27]"
   ]
  },
  {
   "cell_type": "code",
   "execution_count": 2,
   "metadata": {},
   "outputs": [],
   "source": [
    "# 딕셔너리\n",
    "person_dict = {\n",
    "    'name': 'James',\n",
    "    'height' : 175.0,\n",
    "    'job' : 'programmer',\n",
    "    'age' : 27\n",
    "}"
   ]
  },
  {
   "cell_type": "code",
   "execution_count": 3,
   "metadata": {},
   "outputs": [],
   "source": [
    "# 클래스\n",
    "class Person:\n",
    "    def __init__(self):     # 생성자 함수, 클래스 속성을 정의\n",
    "        self.name = 'James'\n",
    "        self.height = 175.0\n",
    "        self.job = 'programmer'\n",
    "        self.age = 27"
   ]
  },
  {
   "cell_type": "code",
   "execution_count": 4,
   "metadata": {},
   "outputs": [
    {
     "data": {
      "text/plain": [
       "('James', 'James')"
      ]
     },
     "execution_count": 4,
     "metadata": {},
     "output_type": "execute_result"
    }
   ],
   "source": [
    "# 이름을 참조하는 방법\n",
    "person_list[0], person_dict['name']"
   ]
  },
  {
   "cell_type": "code",
   "execution_count": 5,
   "metadata": {},
   "outputs": [
    {
     "data": {
      "text/plain": [
       "'James'"
      ]
     },
     "execution_count": 5,
     "metadata": {},
     "output_type": "execute_result"
    }
   ],
   "source": [
    "# 클래스는 먼저 객체를 생성한 후, 이름을 참조해야 함\n",
    "james = Person()\n",
    "james.name"
   ]
  },
  {
   "cell_type": "code",
   "execution_count": 6,
   "metadata": {},
   "outputs": [],
   "source": [
    "# 범용적으로 만들어, 객체를 생성할 때 속성의 값을 할당\n",
    "class Person2:\n",
    "    def __init__(self, name, height, job, age):\n",
    "        self.name = name\n",
    "        self.height = height\n",
    "        self.job = job\n",
    "        self.age = age"
   ]
  },
  {
   "cell_type": "code",
   "execution_count": 7,
   "metadata": {},
   "outputs": [],
   "source": [
    "james = Person2('James', 175.0, 'prgrammer', 27)\n",
    "maria = Person2('Maria', 165.0, 'designer', 25)"
   ]
  },
  {
   "cell_type": "code",
   "execution_count": 10,
   "metadata": {},
   "outputs": [
    {
     "data": {
      "text/plain": [
       "('Maria', 165.0, 'designer', 25)"
      ]
     },
     "execution_count": 10,
     "metadata": {},
     "output_type": "execute_result"
    }
   ],
   "source": [
    "maria.name, maria.height, maria.job, maria.age"
   ]
  },
  {
   "cell_type": "markdown",
   "metadata": {},
   "source": [
    "- 메소드(Method)\n",
    "    - 클래스가 가지는 함수\n",
    "    - 객체가 할 수 있는 행위를 모델링"
   ]
  },
  {
   "cell_type": "code",
   "execution_count": 19,
   "metadata": {},
   "outputs": [],
   "source": [
    "class Person3:\n",
    "    def __init__(self, name, height, job, age):\n",
    "        self.name = name\n",
    "        self.height = height\n",
    "        self.job = job\n",
    "        self.age = age\n",
    "\n",
    "    def get_info(self):\n",
    "        return f'이름: {self.name}, 키: {self.height}, 직업: {self.job}, 나이 {self.age}'"
   ]
  },
  {
   "cell_type": "code",
   "execution_count": 14,
   "metadata": {},
   "outputs": [],
   "source": [
    "james = Person3('James', 175.0, 'prgrammer', 27)\n",
    "maria = Person3('Maria', 165.0, 'designer', 25)"
   ]
  },
  {
   "cell_type": "code",
   "execution_count": 15,
   "metadata": {},
   "outputs": [
    {
     "data": {
      "text/plain": [
       "'이름: Maria, 키: 165.0, 직업: designer, 나이 25'"
      ]
     },
     "execution_count": 15,
     "metadata": {},
     "output_type": "execute_result"
    }
   ],
   "source": [
    "maria.get_info()"
   ]
  },
  {
   "cell_type": "code",
   "execution_count": 18,
   "metadata": {},
   "outputs": [],
   "source": [
    "class Person4:\n",
    "    def __init__(self, name, height, job, age):\n",
    "        self.name = name\n",
    "        self.height = height\n",
    "        self.job = job\n",
    "        self.age = age\n",
    "\n",
    "    def get_info(self):     # 함수로 불렀을 때, ex) james.get_info()\n",
    "        return f'이름: {self.name}, 키: {self.height}, 직업: {self.job}, 나이 {self.age}'\n",
    "\n",
    "    def __str__(self):      # 객체를 그대로 print에 쓸 때, ex) print(james)\n",
    "        return f'Person: 이름 = {self.name}, 키 = {self.height}, 직업 = {self.job}, 나이 = {self.age}'\n"
   ]
  },
  {
   "cell_type": "code",
   "execution_count": 20,
   "metadata": {},
   "outputs": [],
   "source": [
    "james = Person4('James', 175.0, 'prgrammer', 27)\n",
    "maria = Person4('Maria', 165.0, 'designer', 25)"
   ]
  },
  {
   "cell_type": "code",
   "execution_count": 23,
   "metadata": {},
   "outputs": [
    {
     "name": "stdout",
     "output_type": "stream",
     "text": [
      "Person: 이름 = James, 키 = 175.0, 직업 = prgrammer, 나이 = 27\n",
      "Person: 이름 = Maria, 키 = 165.0, 직업 = designer, 나이 = 25\n"
     ]
    }
   ],
   "source": [
    "print(james)\n",
    "print(maria)"
   ]
  },
  {
   "cell_type": "markdown",
   "metadata": {},
   "source": [
    "- 연습문제: class Tmoney\n",
    "    - 속성: age, balance(잔액)\n",
    "    - pay() method\n",
    "        - age < 7: 무료, 7 <= age <= 12: 650, 13 <= age <= 18: 1050, 19 <= age : 1350\n",
    "        - oo살의 요금은 ooo원이고, 잔액은 ooo원입니다.\n",
    "        - 잔액이 부족하면 '잔액이 부족합니다.ㅠㅠ' 출력\n",
    "    - charge(amount) method\n",
    "        - amount 만큼의 금액을 balance에 추가"
   ]
  },
  {
   "cell_type": "code",
   "execution_count": 45,
   "metadata": {},
   "outputs": [],
   "source": [
    "class Tmoney:\n",
    "    def __init__(self, age, balance):\n",
    "        self.age = age\n",
    "        self.balance = balance\n",
    "\n",
    "    def pay(self):\n",
    "        fare = 0\n",
    "        \n",
    "        if (7 <= self.age <= 12 and self.balance < 650) or \\\n",
    "            (13 <= self.age <= 18 and self.balance < 1050) or \\\n",
    "                (19 <= self.age and self.balance < 1350):\n",
    "                print('잔액이 부족합니다. ㅠㅠ')\n",
    "\n",
    "        if 7 <= self.age <= 12:\n",
    "            self.balance -= 650\n",
    "            fare = 650\n",
    "            print(f'{self.age}살의 요금은 {fare}이고, 잔액은 {self.balance}원 입니다.')\n",
    "            return\n",
    "        elif 13 <= self.age <= 18:\n",
    "            self.balance -= 1050\n",
    "            fare = 1050\n",
    "            print(f'{self.age}살의 요금은 {fare}이고, 잔액은 {self.balance}원 입니다.')\n",
    "            return\n",
    "        elif 19 <= self.age:\n",
    "            self.balance -= 1350\n",
    "            fare = 1350\n",
    "            print(f'{self.age}살의 요금은 {fare}이고, 잔액은 {self.balance}원 입니다.')\n",
    "            return\n",
    "\n",
    "    def charge(self, amount):\n",
    "        self.balance += amount\n",
    "        return f'잔액은 {self.balance}원 입니다.'"
   ]
  },
  {
   "cell_type": "code",
   "execution_count": 46,
   "metadata": {},
   "outputs": [
    {
     "name": "stdout",
     "output_type": "stream",
     "text": [
      "13살의 요금은 1050이고, 잔액은 300원 입니다.\n",
      "잔액은 2300원 입니다.\n"
     ]
    }
   ],
   "source": [
    "element = Tmoney(13, 1350)\n",
    "element.pay()\n",
    "print(element.charge(2000))"
   ]
  },
  {
   "cell_type": "code",
   "execution_count": null,
   "metadata": {},
   "outputs": [],
   "source": []
  }
 ],
 "metadata": {
  "kernelspec": {
   "display_name": "base",
   "language": "python",
   "name": "python3"
  },
  "language_info": {
   "codemirror_mode": {
    "name": "ipython",
    "version": 3
   },
   "file_extension": ".py",
   "mimetype": "text/x-python",
   "name": "python",
   "nbconvert_exporter": "python",
   "pygments_lexer": "ipython3",
   "version": "3.11.4"
  },
  "orig_nbformat": 4
 },
 "nbformat": 4,
 "nbformat_minor": 2
}
