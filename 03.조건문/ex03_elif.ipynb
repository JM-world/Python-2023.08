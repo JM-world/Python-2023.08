{
 "cells": [
  {
   "cell_type": "markdown",
   "metadata": {},
   "source": [
    "### 3.3 if ~ elif ~ else"
   ]
  },
  {
   "cell_type": "code",
   "execution_count": 2,
   "metadata": {},
   "outputs": [],
   "source": [
    "import datetime\n",
    "now = datetime.datetime.now()"
   ]
  },
  {
   "cell_type": "code",
   "execution_count": 3,
   "metadata": {},
   "outputs": [
    {
     "name": "stdout",
     "output_type": "stream",
     "text": [
      "현재 8월은 여름입니다.\n"
     ]
    }
   ],
   "source": [
    "if 3 <= now.month <= 5:\n",
    "    print(f'현재 {now.month}월은 봄입니다.')\n",
    "elif 6 <= now.month <= 8:\n",
    "    print(f'현재 {now.month}월은 여름입니다.')\n",
    "elif 9 <= now.month <= 11:\n",
    "    print(f'현재 {now.month}월은 가을입니다.')\n",
    "else:\n",
    "    print(f'현재 {now.month}월은 겨울입니다.')"
   ]
  },
  {
   "cell_type": "code",
   "execution_count": 238,
   "metadata": {},
   "outputs": [
    {
     "name": "stdout",
     "output_type": "stream",
     "text": [
      "100점 이므로 학점은 A입니다.\n"
     ]
    }
   ],
   "source": [
    "# 90점 이상 -A, 80점 이상 -B, 70점 이상 - C, 60점 이상 - D, 60점 미만 - F\n",
    "import random\n",
    "score = random.randint(40, 100)\n",
    "\n",
    "if score >= 90:\n",
    "    print(f'{score}점 이므로 학점은 A입니다.')\n",
    "elif score >= 80:\n",
    "    print(f'{score}점 이므로 학점은 B입니다.')\n",
    "elif score >= 70:\n",
    "    print(f'{score}점 이므로 학점은 C입니다.')\n",
    "elif score >= 60:\n",
    "    print(f'{score}점 이므로 학점은 D입니다.')\n",
    "else:\n",
    "    print(f'{score}점 이므로 학점은 F입니다.')"
   ]
  },
  {
   "cell_type": "code",
   "execution_count": 239,
   "metadata": {},
   "outputs": [
    {
     "name": "stdout",
     "output_type": "stream",
     "text": [
      "윤년입니다.\n"
     ]
    }
   ],
   "source": [
    "# 년도 입력, 윤년여부 판단\n",
    "# 400으로 나눠서 떨어지면 윤년, 100으로 나눠서 떨어지면 평년\n",
    "# 4로 나눠서 떨어지면 윤년 아니면 평년\n",
    "year = int(input('년도 입력> '))\n",
    "\n",
    "if year % 400 == 0:\n",
    "    print('윤년입니다.')\n",
    "elif year % 100 == 0:\n",
    "    print('평년입니다.')\n",
    "elif year % 4 == 0:\n",
    "    print('윤년입니다.')\n",
    "else:\n",
    "    print('평년입니다.')\n",
    "\n",
    "\n"
   ]
  },
  {
   "cell_type": "code",
   "execution_count": 259,
   "metadata": {},
   "outputs": [
    {
     "data": {
      "text/plain": [
       "(1995, 8, 30)"
      ]
     },
     "execution_count": 259,
     "metadata": {},
     "output_type": "execute_result"
    }
   ],
   "source": [
    "# 생년월일을 입력으로 받아, 오늘 날짜의 만 나이를 구하시오.\n",
    "b_year, b_month, b_day = map(int, (input('생년월일 입력> ').split()))\n",
    "b_year, b_month, b_day\n",
    "\n",
    "# t_year, t_month, t_day = now.year, now.month, now.day\n",
    "\n",
    "# year = t_year - b_year\n",
    "\n",
    "# if b_month < t_month:\n",
    "#     print(f'현재 만 나이는 {year}세입니다.')\n",
    "# elif b_month > t_month:\n",
    "#     print(f'현재 만 나이는 {year-1}세입니다.')\n",
    "# else:\n",
    "#     if b_day <= t_day:\n",
    "#         print(f'현재 만 나이는 {year}세입니다.')\n",
    "#     else:\n",
    "#         print(f'현재 만 나이는 {year-1}세입니다.')"
   ]
  },
  {
   "cell_type": "code",
   "execution_count": 257,
   "metadata": {},
   "outputs": [
    {
     "data": {
      "text/plain": [
       "27"
      ]
     },
     "execution_count": 257,
     "metadata": {},
     "output_type": "execute_result"
    }
   ],
   "source": [
    "if b_month * 100 + b_day <= t_month * t_month * 100 + t_day:\n",
    "    age = t_year - b_year -1\n",
    "else:\n",
    "    age = t_year - b_year\n",
    "age"
   ]
  },
  {
   "cell_type": "markdown",
   "metadata": {},
   "source": [
    "- False로 반환되는 값"
   ]
  },
  {
   "cell_type": "code",
   "execution_count": 258,
   "metadata": {},
   "outputs": [
    {
     "name": "stdout",
     "output_type": "stream",
     "text": [
      "27\n"
     ]
    }
   ],
   "source": [
    "\n",
    "if age:\n",
    "    print(age)"
   ]
  },
  {
   "cell_type": "code",
   "execution_count": 254,
   "metadata": {},
   "outputs": [
    {
     "data": {
      "text/plain": [
       "(True, False, False)"
      ]
     },
     "execution_count": 254,
     "metadata": {},
     "output_type": "execute_result"
    }
   ],
   "source": [
    "bool(1), bool(0), bool(0.0)"
   ]
  },
  {
   "cell_type": "code",
   "execution_count": 255,
   "metadata": {},
   "outputs": [
    {
     "data": {
      "text/plain": [
       "(True, False, False)"
      ]
     },
     "execution_count": 255,
     "metadata": {},
     "output_type": "execute_result"
    }
   ],
   "source": [
    "bool('a'), bool(''), bool(None)"
   ]
  },
  {
   "cell_type": "code",
   "execution_count": 256,
   "metadata": {},
   "outputs": [
    {
     "data": {
      "text/plain": [
       "(False, False, False)"
      ]
     },
     "execution_count": 256,
     "metadata": {},
     "output_type": "execute_result"
    }
   ],
   "source": [
    "#empty list, empty tuple, empty dictionary\n",
    "bool([]), bool(()), bool({})"
   ]
  },
  {
   "cell_type": "code",
   "execution_count": null,
   "metadata": {},
   "outputs": [],
   "source": []
  }
 ],
 "metadata": {
  "kernelspec": {
   "display_name": "base",
   "language": "python",
   "name": "python3"
  },
  "language_info": {
   "codemirror_mode": {
    "name": "ipython",
    "version": 3
   },
   "file_extension": ".py",
   "mimetype": "text/x-python",
   "name": "python",
   "nbconvert_exporter": "python",
   "pygments_lexer": "ipython3",
   "version": "3.11.4"
  },
  "orig_nbformat": 4
 },
 "nbformat": 4,
 "nbformat_minor": 2
}
