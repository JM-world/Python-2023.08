{
 "cells": [
  {
   "cell_type": "code",
   "execution_count": 1,
   "metadata": {},
   "outputs": [
    {
     "name": "stdout",
     "output_type": "stream",
     "text": [
      "2360\n",
      "3776\n",
      "1416\n",
      "181720\n"
     ]
    }
   ],
   "source": [
    "# 2588\n",
    "\n",
    "a = int(input())\n",
    "b = input()\n",
    "print( a * int(b[2]) )\n",
    "print( a * int(b[1]) )\n",
    "print( a * int(b[0]) )\n",
    "print( a * int(b) )"
   ]
  },
  {
   "cell_type": "code",
   "execution_count": 18,
   "metadata": {},
   "outputs": [
    {
     "name": "stdout",
     "output_type": "stream",
     "text": [
      "Yes\n"
     ]
    }
   ],
   "source": [
    "# 25304\n",
    "\n",
    "sum_num = int(input())\n",
    "type_num = int(input())\n",
    "thing_list = []\n",
    "result = 0\n",
    "for _ in range(type_num):\n",
    "    thing_list.append(list(map(int, input().split())))\n",
    "\n",
    "for i in thing_list:\n",
    "    result += i[0] * i[1]\n",
    "\n",
    "if result == sum_num:\n",
    "    print('Yes')\n",
    "else:\n",
    "    print('No')"
   ]
  },
  {
   "cell_type": "code",
   "execution_count": 21,
   "metadata": {},
   "outputs": [
    {
     "name": "stdout",
     "output_type": "stream",
     "text": [
      "85\n",
      "8\n"
     ]
    }
   ],
   "source": [
    "# 2562\n",
    "num_list = []\n",
    "for i in range(1,10):\n",
    "    num = int(input())\n",
    "    num_list.append(num)\n",
    "print(max(num_list))\n",
    "print(num_list.index(max(num_list))+1)\n"
   ]
  },
  {
   "cell_type": "code",
   "execution_count": null,
   "metadata": {},
   "outputs": [],
   "source": []
  },
  {
   "cell_type": "code",
   "execution_count": 38,
   "metadata": {},
   "outputs": [
    {
     "name": "stdout",
     "output_type": "stream",
     "text": [
      "AAABBBCCC\n",
      "/////HHHHHTTTTTPPPPP\n"
     ]
    }
   ],
   "source": [
    "# 2675\n",
    "\n",
    "c = ''\n",
    "for i in range(int(input())):\n",
    "    a, b = input().split()\n",
    "    for i in b:\n",
    "        c += i * int(a)\n",
    "    c += '^'\n",
    "c = c[:-1]\n",
    "result = c.split('^')\n",
    "for k in result:\n",
    "    print(k)"
   ]
  },
  {
   "cell_type": "code",
   "execution_count": 49,
   "metadata": {},
   "outputs": [
    {
     "name": "stdout",
     "output_type": "stream",
     "text": [
      "1 0 -1 -1 2 -1 -1 -1 -1 4 3 -1 -1 7 5 -1 -1 -1 -1 -1 -1 -1 -1 -1 -1 -1\n"
     ]
    }
   ],
   "source": [
    "# 10809\n",
    "\n",
    "name = input()\n",
    "c = ''\n",
    "for k in range(ord('a'), ord('z')+1):\n",
    "    if chr(k) in name:\n",
    "        c += str(name.index(chr(k))) + \" \"\n",
    "    else:\n",
    "        c += str(-1) + \" \"\n",
    "c = c[:-1]\n",
    "print(c)"
   ]
  },
  {
   "cell_type": "code",
   "execution_count": 51,
   "metadata": {},
   "outputs": [
    {
     "name": "stdout",
     "output_type": "stream",
     "text": [
      "437\n"
     ]
    }
   ],
   "source": [
    "# 2908\n",
    "\n",
    "a, b = input().split()\n",
    "a = a[::-1]\n",
    "b = b[::-1]\n",
    "if int(a) > int(b):\n",
    "    print(a)\n",
    "else:\n",
    "    print(b)"
   ]
  },
  {
   "cell_type": "code",
   "execution_count": 57,
   "metadata": {},
   "outputs": [
    {
     "name": "stdout",
     "output_type": "stream",
     "text": [
      "-1 0 0 1 0 7 \n"
     ]
    }
   ],
   "source": [
    "# 3003\n",
    "\n",
    "a = input().split()\n",
    "print(str(1 - int(a[0]))+\" \"+str(1 - int(a[1]))+\" \"+str(2 - int(a[2]))+\" \"+ \\\n",
    "      str(2 - int(a[3]))+\" \"+str(2 - int(a[4]))+\" \"+str(8 - int(a[5])))"
   ]
  },
  {
   "cell_type": "code",
   "execution_count": 66,
   "metadata": {},
   "outputs": [
    {
     "name": "stdout",
     "output_type": "stream",
     "text": [
      "    *\n",
      "   ***\n",
      "  *****\n",
      " *******\n",
      "*********\n",
      " *******\n",
      "  *****\n",
      "   ***\n",
      "    *\n"
     ]
    }
   ],
   "source": [
    "# 2444\n",
    "\n",
    "num = int(input())\n",
    "empty = num - 1\n",
    "star = 1\n",
    "for _ in range(1, num * 2):\n",
    "    if empty >= 0:\n",
    "        print(' ' * empty + '*' * star)\n",
    "        empty -= 1\n",
    "        if empty != -1:\n",
    "            star += 2\n",
    "    elif empty < 0:\n",
    "        star -= 2\n",
    "        print(' ' * abs(empty) + '*' * star )\n",
    "        empty -= 1\n"
   ]
  },
  {
   "cell_type": "code",
   "execution_count": 91,
   "metadata": {},
   "outputs": [
    {
     "name": "stdout",
     "output_type": "stream",
     "text": [
      "?\n"
     ]
    }
   ],
   "source": [
    "# 1157\n",
    "a = input()\n",
    "a = a.upper()\n",
    "num_list = []\n",
    "str_list = []\n",
    "num = 0\n",
    "num_index = 1000001\n",
    "for i in range(ord('A'), ord('Z')+1):\n",
    "    count = 0\n",
    "    str_list.append(chr(i))\n",
    "    for k in a:\n",
    "        if chr(i) == k:\n",
    "            count += 1\n",
    "    num_list.append(count)\n",
    "\n",
    "for j in range(len(num_list)):\n",
    "    if num_list[j] > num:\n",
    "        num = num_list[j]\n",
    "        num_index = j\n",
    "if num_list[num_index] in num_list[num_index+1:]:\n",
    "    print('?')\n",
    "else:\n",
    "    print(str_list[num_index])\n"
   ]
  },
  {
   "cell_type": "code",
   "execution_count": 120,
   "metadata": {},
   "outputs": [
    {
     "name": "stdout",
     "output_type": "stream",
     "text": [
      "4 4 4\n",
      "6 6 6\n",
      "5 6 100\n"
     ]
    }
   ],
   "source": [
    "# 2738\n",
    "\n",
    "a, b = map(int, input().split())\n",
    "one_list = [list(map(int, input().split())) for _ in range(a)]\n",
    "two_list = [list(map(int, input().split())) for _ in range(a)]\n",
    "\n",
    "for i in range(a):\n",
    "    for k in range(b):\n",
    "        one_list[i][k] = one_list[i][k] + two_list[i][k]\n",
    "\n",
    "for row in one_list:\n",
    "    print(*row)"
   ]
  }
 ],
 "metadata": {
  "kernelspec": {
   "display_name": "base",
   "language": "python",
   "name": "python3"
  },
  "language_info": {
   "codemirror_mode": {
    "name": "ipython",
    "version": 3
   },
   "file_extension": ".py",
   "mimetype": "text/x-python",
   "name": "python",
   "nbconvert_exporter": "python",
   "pygments_lexer": "ipython3",
   "version": "3.11.4"
  },
  "orig_nbformat": 4
 },
 "nbformat": 4,
 "nbformat_minor": 2
}
