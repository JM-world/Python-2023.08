{
 "cells": [
  {
   "cell_type": "code",
   "execution_count": 9,
   "metadata": {},
   "outputs": [
    {
     "name": "stdout",
     "output_type": "stream",
     "text": [
      "22 55\n"
     ]
    }
   ],
   "source": [
    "# 백준 14681\n",
    "\n",
    "x = int(input())\n",
    "y = int(input())\n",
    "\n",
    "if x > 0 and y > 0:\n",
    "    print(1)\n",
    "elif x < 0 and y > 0:\n",
    "    print(2)\n",
    "elif x < 0 and y < 0:\n",
    "    print(3)\n",
    "else:\n",
    "    print(4)"
   ]
  },
  {
   "cell_type": "code",
   "execution_count": null,
   "metadata": {},
   "outputs": [],
   "source": [
    "# 백준 2884\n",
    "\n",
    "h, m = map(int, input().split())\n",
    "\n",
    "if m -45 < 0:\n",
    "    if h - 1 < 0:\n",
    "        print(23, 15 + m)\n",
    "    else:\n",
    "        print(h-1, 15 + m)\n",
    "else:\n",
    "    print(h, m - 45)"
   ]
  },
  {
   "cell_type": "code",
   "execution_count": 34,
   "metadata": {},
   "outputs": [
    {
     "name": "stdout",
     "output_type": "stream",
     "text": [
      "600\n"
     ]
    }
   ],
   "source": [
    "# 백준 2525\n",
    "\n",
    "a = list(map(int, input().split()))\n",
    "m = 0\n",
    "temp = 0\n",
    "if a[0] == a[1] == a[2]:\n",
    "    m = 10000 + a[0] * 1000\n",
    "elif a[0] == a[1] or a[0] == a[2]:\n",
    "    m = 1000 + a[0] * 100\n",
    "elif a[1] == a[2]:\n",
    "    m = 1000 + a[1] * 100\n",
    "else:\n",
    "    for max in a:\n",
    "        if temp < max:\n",
    "            temp = max\n",
    "    m = temp * 100\n",
    "\n",
    "print(m)"
   ]
  },
  {
   "cell_type": "code",
   "execution_count": 14,
   "metadata": {},
   "outputs": [
    {
     "data": {
      "text/plain": [
       "0"
      ]
     },
     "execution_count": 14,
     "metadata": {},
     "output_type": "execute_result"
    }
   ],
   "source": [
    "# 백준 2480\n",
    "\n",
    "int(5/60)"
   ]
  },
  {
   "cell_type": "code",
   "execution_count": null,
   "metadata": {},
   "outputs": [],
   "source": []
  }
 ],
 "metadata": {
  "kernelspec": {
   "display_name": "base",
   "language": "python",
   "name": "python3"
  },
  "language_info": {
   "codemirror_mode": {
    "name": "ipython",
    "version": 3
   },
   "file_extension": ".py",
   "mimetype": "text/x-python",
   "name": "python",
   "nbconvert_exporter": "python",
   "pygments_lexer": "ipython3",
   "version": "3.11.4"
  },
  "orig_nbformat": 4
 },
 "nbformat": 4,
 "nbformat_minor": 2
}
