{
 "cells": [
  {
   "cell_type": "code",
   "execution_count": 3,
   "metadata": {},
   "outputs": [
    {
     "data": {
      "text/plain": [
       "True"
      ]
     },
     "execution_count": 3,
     "metadata": {},
     "output_type": "execute_result"
    }
   ],
   "source": [
    "# u8 심사문제\n",
    "\n",
    "a, b, c, d = map(int, input().split())\n",
    "e = True\n",
    "if a >= 90 and (b and c) > 85 and d >= 80: e = True\n",
    "else: e = False \n",
    "print(e)"
   ]
  },
  {
   "cell_type": "code",
   "execution_count": 13,
   "metadata": {},
   "outputs": [
    {
     "name": "stdout",
     "output_type": "stream",
     "text": [
      "'Python' is a \"Programming language\"\n",
      "that lets you work quickly\n",
      "and\n",
      "integrate systems more effectively.\n"
     ]
    }
   ],
   "source": [
    "# u9 심사문제\n",
    "\n",
    "s = \"\"\"'Python' is a \"programming language\"\n",
    "that lets you work quickly\n",
    "and\n",
    "integrate systems more effectively.\"\"\""
   ]
  },
  {
   "cell_type": "code",
   "execution_count": 19,
   "metadata": {},
   "outputs": [
    {
     "name": "stdout",
     "output_type": "stream",
     "text": [
      "1000\n"
     ]
    }
   ],
   "source": [
    "# u13 심사문제\n",
    "\n",
    "price = int(input())\n",
    "coupon = input()\n",
    "\n",
    "p = price - int(coupon.replace('Cash',''))\n",
    "print(p)\n",
    "\n",
    "# 조건문 풀이 (문제 조건: 쿠폰은 3000원권과 5000원권 밖에 없다는 가정 하에)\n",
    "if coupon == 'Cash3000':\n",
    "    price -= 3000\n",
    "else:\n",
    "    price -= 5000\n",
    "\n",
    "print(price)"
   ]
  },
  {
   "cell_type": "code",
   "execution_count": 30,
   "metadata": {},
   "outputs": [
    {
     "name": "stdout",
     "output_type": "stream",
     "text": [
      "불합격\n"
     ]
    }
   ],
   "source": [
    "# u14 심사문제\n",
    "\n",
    "a, b, c, d = map(int, input().split())\n",
    "\n",
    "avg = (a + b + c + d) / 4\n",
    "if 0 <= a <= 100 and 0 <= b <= 100 and 0 <= c <= 100 and 0 <= d <= 100:\n",
    "    if avg >= 80:\n",
    "        print('합격') \n",
    "    else:\n",
    "        print('불합격')\n",
    "else:\n",
    "    print('잘못된 점수')"
   ]
  },
  {
   "cell_type": "code",
   "execution_count": 2,
   "metadata": {},
   "outputs": [
    {
     "name": "stdout",
     "output_type": "stream",
     "text": [
      "8350\n"
     ]
    }
   ],
   "source": [
    "# u15 심사문제\n",
    "age = int(input())\n",
    "balance = 9000    # 교통카드 잔액\n",
    "#---------시험 답----------\n",
    "balance -= (650 if 7 <= age <= 12 else 1050 if 13 <= age <= 18 else 1250)\n",
    "#--------------------------\n",
    "print(balance)"
   ]
  }
 ],
 "metadata": {
  "kernelspec": {
   "display_name": "base",
   "language": "python",
   "name": "python3"
  },
  "language_info": {
   "codemirror_mode": {
    "name": "ipython",
    "version": 3
   },
   "file_extension": ".py",
   "mimetype": "text/x-python",
   "name": "python",
   "nbconvert_exporter": "python",
   "pygments_lexer": "ipython3",
   "version": "3.11.4"
  },
  "orig_nbformat": 4
 },
 "nbformat": 4,
 "nbformat_minor": 2
}
