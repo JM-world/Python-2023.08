{
 "cells": [
  {
   "cell_type": "code",
   "execution_count": null,
   "metadata": {},
   "outputs": [],
   "source": [
    "# u34\n",
    "class Annie():\n",
    "    def __init__(self, health, mana, ability_power):\n",
    "        self.health = health\n",
    "        self.mana = mana\n",
    "        self.ability_power = ability_power\n",
    "\n",
    "    def tibbers(self):\n",
    "        power = self.ability_power * 0.65 + 400\n",
    "        print(f'티버: 피해량 {power}')\n"
   ]
  },
  {
   "cell_type": "code",
   "execution_count": 1,
   "metadata": {},
   "outputs": [
    {
     "name": "stdout",
     "output_type": "stream",
     "text": [
      "314.1592653589793\n"
     ]
    }
   ],
   "source": [
    "# u44\n",
    "import math\n",
    "radius = float(input())\n",
    "print( radius * radius * math.pi)"
   ]
  },
  {
   "cell_type": "code",
   "execution_count": 3,
   "metadata": {},
   "outputs": [
    {
     "name": "stdout",
     "output_type": "stream",
     "text": [
      "1.4142135623730951\n",
      "12.566370614359172\n"
     ]
    }
   ],
   "source": [
    "# u45\n",
    "from calcpkg.geometry import circle_area as ca\n",
    "from calcpkg.operation import squareroot as sr\n",
    "num = int(input())\n",
    "print(sr(num))\n",
    "print(ca(num))"
   ]
  },
  {
   "cell_type": "code",
   "execution_count": 38,
   "metadata": {},
   "outputs": [],
   "source": [
    "# quiz\n",
    "class Account:\n",
    "    def __init__(self, ano, owner, balance):\n",
    "        self.ano = ano\n",
    "        self.owner = owner\n",
    "        if balance < 0 or balance > 10000000:\n",
    "            self.balance = '*'\n",
    "        else:\n",
    "            self.balance = balance\n",
    "            \n",
    "\n",
    "    def deposit(self, amount):\n",
    "        if self.balance == '*':\n",
    "            return '잔액확인요망'\n",
    "        else:\n",
    "            if self.balance + amount <= 10000000:\n",
    "                self.balance += amount\n",
    "                return self.balance\n",
    "            else:\n",
    "                return '잔액은 10,000,000원을 초과할 수 없습니다.'\n",
    "        \n",
    "    def withdrow(self, amount):\n",
    "        if self.balance == '*':\n",
    "            return '잔액확인요망'\n",
    "        else:\n",
    "            if self.balance - amount >= 0:\n",
    "                self.balance -= amount\n",
    "                return self.balance\n",
    "            else:\n",
    "                return '출금액이 현재 잔액보다 더 많습니다.'\n",
    "    \n",
    "    def __str__(self):\n",
    "        if self.balance == '*':\n",
    "            return '잔액은 0원 이상 10,000,000만원 이하이어야 합니다.'\n",
    "        else:\n",
    "            return f'계좌번호: {self.ano}, 소유주: {self.owner}, 잔액 {self.balance:10,d}'\n",
    "        \n",
    "    "
   ]
  },
  {
   "cell_type": "code",
   "execution_count": 82,
   "metadata": {},
   "outputs": [],
   "source": [
    "class Fare_error(Exception):\n",
    "    def __init__(self):\n",
    "        super().__init__('잔액은 0원 이상이고 10,000,000원 이하이어야 합니다.')"
   ]
  },
  {
   "cell_type": "code",
   "execution_count": 1,
   "metadata": {},
   "outputs": [],
   "source": [
    "class Account():\n",
    "    def __init__(self, ano, owner, balance):\n",
    "        self.ano = ano\n",
    "        self.owner = owner\n",
    "        try:\n",
    "            self.balance = self.__error1(balance)\n",
    "        except Exception:\n",
    "            self.balance = '*'\n",
    "            print('잔액은 0원 이상이고 10,000,000원 이하이어야 합니다.')\n",
    "\n",
    "    def __error1(self, balance):\n",
    "        if 0 <= balance <= 10000000:\n",
    "            return balance\n",
    "        else:\n",
    "            raise Fare_error\n",
    "    \n",
    "    def deposit(self, amount):\n",
    "            if self.balance == '*':\n",
    "                return '잔액확인요망'\n",
    "            else:\n",
    "                if self.balance + amount <= 10000000:\n",
    "                    self.balance += amount\n",
    "                    return self.balance\n",
    "                else:\n",
    "                    return '잔액은 10,000,000원을 초과할 수 없습니다.'\n",
    "            \n",
    "    def withdrow(self, amount):\n",
    "        if self.balance == '*':\n",
    "            return '잔액확인요망'\n",
    "        else:\n",
    "            if self.balance - amount >= 0:\n",
    "                self.balance -= amount\n",
    "                return self.balance\n",
    "            else:\n",
    "                return '출금액이 현재 잔액보다 더 많습니다.'\n",
    "        \n",
    "    def __str__(self):\n",
    "        if self.balance == '*':\n",
    "            return '잔액은 0원 이상이고 10,000,000원 이하이어야 합니다.'\n",
    "        else:\n",
    "            return f'계좌번호: {self.ano}, 소유주: {self.owner}, 잔액 {self.balance:10,d}'\n"
   ]
  },
  {
   "cell_type": "code",
   "execution_count": 98,
   "metadata": {},
   "outputs": [
    {
     "name": "stdout",
     "output_type": "stream",
     "text": [
      "잔액은 0원 이상이고 10,000,000원 이하이어야 합니다.\n",
      "잔액확인요망\n",
      "잔액은 0원 이상이고 10,000,000원 이하이어야 합니다.\n"
     ]
    }
   ],
   "source": [
    "a = Account('206802-04-348832','jongmoon',100000000)\n",
    "print(a.withdrow(400000))\n",
    "print(a)"
   ]
  },
  {
   "cell_type": "markdown",
   "metadata": {},
   "source": [
    "- Account 문제"
   ]
  },
  {
   "cell_type": "code",
   "execution_count": 3,
   "metadata": {},
   "outputs": [
    {
     "ename": "ModuleNotFoundError",
     "evalue": "No module named 'account'",
     "output_type": "error",
     "traceback": [
      "\u001b[1;31m---------------------------------------------------------------------------\u001b[0m",
      "\u001b[1;31mModuleNotFoundError\u001b[0m                       Traceback (most recent call last)",
      "Cell \u001b[1;32mIn[3], line 1\u001b[0m\n\u001b[1;32m----> 1\u001b[0m \u001b[39mfrom\u001b[39;00m \u001b[39maccount\u001b[39;00m \u001b[39mimport\u001b[39;00m Account\n",
      "\u001b[1;31mModuleNotFoundError\u001b[0m: No module named 'account'"
     ]
    }
   ],
   "source": [
    "from account import Account"
   ]
  },
  {
   "cell_type": "code",
   "execution_count": null,
   "metadata": {},
   "outputs": [],
   "source": []
  }
 ],
 "metadata": {
  "kernelspec": {
   "display_name": "base",
   "language": "python",
   "name": "python3"
  },
  "language_info": {
   "codemirror_mode": {
    "name": "ipython",
    "version": 3
   },
   "file_extension": ".py",
   "mimetype": "text/x-python",
   "name": "python",
   "nbconvert_exporter": "python",
   "pygments_lexer": "ipython3",
   "version": "3.11.4"
  },
  "orig_nbformat": 4
 },
 "nbformat": 4,
 "nbformat_minor": 2
}
