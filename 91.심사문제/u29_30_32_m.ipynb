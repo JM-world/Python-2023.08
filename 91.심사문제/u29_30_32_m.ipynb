{
 "cells": [
  {
   "cell_type": "code",
   "execution_count": 1,
   "metadata": {},
   "outputs": [
    {
     "name": "stdout",
     "output_type": "stream",
     "text": [
      "덧셈: 30, 뺄셈: -10, 곱셈: 200, 나눗셈: 0.5\n"
     ]
    }
   ],
   "source": [
    "# u29\n",
    "x, y = map(int, input().split())\n",
    "\n",
    "def calc(x, y):\n",
    "    return x + y, x - y, x * y, float(x / y)\n",
    "\n",
    "a, s, m, d = calc(x, y)\n",
    "print('덧셈: {0}, 뺄셈: {1}, 곱셈: {2}, 나눗셈: {3}'.format(a, s, m, d))"
   ]
  },
  {
   "cell_type": "code",
   "execution_count": 15,
   "metadata": {},
   "outputs": [
    {
     "name": "stdout",
     "output_type": "stream",
     "text": [
      "낮은 점수: 73.00, 높은 점수: 92.00, 평균 점수: 84.25\n",
      "낮은 점수: 83.00, 높은 점수: 92.00, 평균 점수: 87.50\n"
     ]
    }
   ],
   "source": [
    "# u30\n",
    "korean, english, mathematics, science = map(int, input().split())\n",
    "\n",
    "def get_min_max_score(*a):\n",
    "     return min(a), max(a)\n",
    "def get_average(korean = 0, english = 0, mathematics = 0, science = 0):\n",
    "     w = [korean, english, mathematics, science]\n",
    "     count = 0\n",
    "     for i in w:\n",
    "          if i != 0:\n",
    "               count += 1\n",
    "     return float((korean + english + mathematics + science) / count)\n",
    "\n",
    "min_score, max_score = get_min_max_score(korean, english, mathematics, science)\n",
    "average_score = get_average(korean=korean, english=english,\n",
    "                            mathematics=mathematics, science=science)\n",
    "print('낮은 점수: {0:.2f}, 높은 점수: {1:.2f}, 평균 점수: {2:.2f}'\n",
    "      .format(min_score, max_score, average_score))\n",
    " \n",
    "min_score, max_score = get_min_max_score(english, science)\n",
    "average_score = get_average(english=english, science=science)\n",
    "print('낮은 점수: {0:.2f}, 높은 점수: {1:.2f}, 평균 점수: {2:.2f}'\n",
    "      .format(min_score, max_score, average_score))"
   ]
  },
  {
   "cell_type": "code",
   "execution_count": 18,
   "metadata": {},
   "outputs": [
    {
     "name": "stdout",
     "output_type": "stream",
     "text": [
      "['001.jpg', '010.png', '011.png', '002.jpg', '003.png']\n"
     ]
    }
   ],
   "source": [
    "# u32\n",
    "files = input().split()\n",
    "print(list(map(lambda x: '{:03d}'.format(int(x.split('.')[0]))+'.'+ x.split('.')[1]  , files)))"
   ]
  },
  {
   "cell_type": "code",
   "execution_count": 26,
   "metadata": {},
   "outputs": [],
   "source": [
    "# 디지털 시계 00:00 ~ 23:59 하루 중 3이 출력되는 시간은 몇 초인가?\n",
    "\n",
    "def time(num):\n",
    "    hour = 0\n",
    "    min = 0\n",
    "    count = 0\n",
    "    while True:\n",
    "        if str(num) in str(hour) + str(min):\n",
    "            count += 60\n",
    "    \n",
    "        min +=1\n",
    "        if hour == 23 and min == 60:\n",
    "            break\n",
    "        if min == 60:\n",
    "            min = 0\n",
    "            hour += 1\n",
    "    \n",
    "    return count"
   ]
  },
  {
   "cell_type": "code",
   "execution_count": 27,
   "metadata": {},
   "outputs": [
    {
     "data": {
      "text/plain": [
       "29700"
      ]
     },
     "execution_count": 27,
     "metadata": {},
     "output_type": "execute_result"
    }
   ],
   "source": [
    "time(3)"
   ]
  },
  {
   "cell_type": "code",
   "execution_count": 49,
   "metadata": {},
   "outputs": [
    {
     "data": {
      "text/plain": [
       "['skylark 320', 'satellite', 'reble sst', 'torino']"
      ]
     },
     "execution_count": 49,
     "metadata": {},
     "output_type": "execute_result"
    }
   ],
   "source": [
    "cars = ['buick skylark 320', 'plymouth satellite', 'amc reble sst', 'ford torino']\n",
    "\n",
    "a = []\n",
    "b = []\n",
    "\n",
    "for i in cars:\n",
    "    a.append(i.split()[0])\n",
    "for j in cars:    \n",
    "    b.append(' '.join(j.split()[1:]))\n",
    "b\n",
    "\n"
   ]
  }
 ],
 "metadata": {
  "kernelspec": {
   "display_name": "base",
   "language": "python",
   "name": "python3"
  },
  "language_info": {
   "codemirror_mode": {
    "name": "ipython",
    "version": 3
   },
   "file_extension": ".py",
   "mimetype": "text/x-python",
   "name": "python",
   "nbconvert_exporter": "python",
   "pygments_lexer": "ipython3",
   "version": "3.11.4"
  },
  "orig_nbformat": 4
 },
 "nbformat": 4,
 "nbformat_minor": 2
}
