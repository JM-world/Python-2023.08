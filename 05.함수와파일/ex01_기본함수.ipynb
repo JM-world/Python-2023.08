{
 "cells": [
  {
   "cell_type": "markdown",
   "metadata": {},
   "source": [
    "# 5. 함수\n",
    "## 5.1 기본 함수"
   ]
  },
  {
   "cell_type": "code",
   "execution_count": 1,
   "metadata": {},
   "outputs": [],
   "source": [
    "# 함수 정의, 호출하기 전에 반드시 선언해주어야 함\n",
    "def print_3_time():\n",
    "    for _ in range(3):\n",
    "        print('안녕하세요')"
   ]
  },
  {
   "cell_type": "code",
   "execution_count": 3,
   "metadata": {},
   "outputs": [
    {
     "name": "stdout",
     "output_type": "stream",
     "text": [
      "안녕하세요\n",
      "안녕하세요\n",
      "안녕하세요\n"
     ]
    }
   ],
   "source": [
    "#함수 호출\n",
    "print_3_time()"
   ]
  },
  {
   "cell_type": "markdown",
   "metadata": {},
   "source": [
    "- 매개변수(parameter, argument)"
   ]
  },
  {
   "cell_type": "code",
   "execution_count": 6,
   "metadata": {},
   "outputs": [
    {
     "name": "stdout",
     "output_type": "stream",
     "text": [
      "안녕하세요\n",
      "안녕하세요\n",
      "안녕하세요\n"
     ]
    }
   ],
   "source": [
    "def print_n_times(msg, n):      # msg, n을 포지션 파라미터라고 한다.\n",
    "    for _ in range(n):\n",
    "        print(msg)\n",
    "print_n_times('안녕하세요', 3)"
   ]
  },
  {
   "cell_type": "markdown",
   "metadata": {},
   "source": [
    "- 매개변수 기본값 정의"
   ]
  },
  {
   "cell_type": "code",
   "execution_count": 7,
   "metadata": {},
   "outputs": [
    {
     "name": "stdout",
     "output_type": "stream",
     "text": [
      "안녕하세요\n",
      "안녕하세요\n",
      "안녕하세요\n"
     ]
    }
   ],
   "source": [
    "def print_n_times2(msg, n=3):        #값 입력 안했을 때 n은 3으로 진행// 키워드 매개변수라고 한다.\n",
    "    for _ in range(n):\n",
    "        print(msg)\n",
    "print_n_times2('안녕하세요', 3)"
   ]
  },
  {
   "cell_type": "markdown",
   "metadata": {},
   "source": [
    "- 가변 매개변수"
   ]
  },
  {
   "cell_type": "code",
   "execution_count": 11,
   "metadata": {},
   "outputs": [],
   "source": [
    "def print_n_times3(n, *msgs):\n",
    "    for _ in range(n):\n",
    "        for msg in msgs:\n",
    "            print(msg, end=' ')\n",
    "        print()"
   ]
  },
  {
   "cell_type": "code",
   "execution_count": 13,
   "metadata": {},
   "outputs": [
    {
     "name": "stdout",
     "output_type": "stream",
     "text": [
      "Hello World \n",
      "Hello World \n",
      "Hello World \n"
     ]
    }
   ],
   "source": [
    "print_n_times3(3, 'Hello', 'World')"
   ]
  },
  {
   "cell_type": "markdown",
   "metadata": {},
   "source": [
    "- 가변 매개변수 + 매개변수 기본값"
   ]
  },
  {
   "cell_type": "code",
   "execution_count": 15,
   "metadata": {},
   "outputs": [
    {
     "name": "stdout",
     "output_type": "stream",
     "text": [
      "Hello World !!! \n",
      "Hello World !!! \n",
      "Hello World !!! \n"
     ]
    }
   ],
   "source": [
    "def print_n_times4(*msgs, n=3):\n",
    "    for _ in range(n):\n",
    "        for msg in msgs:\n",
    "            print(msg, end=' ')\n",
    "        print()\n",
    "\n",
    "print_n_times4('Hello', 'World', '!!!')"
   ]
  },
  {
   "cell_type": "code",
   "execution_count": 16,
   "metadata": {},
   "outputs": [
    {
     "name": "stdout",
     "output_type": "stream",
     "text": [
      "Hello World !!! 2 \n",
      "Hello World !!! 2 \n",
      "Hello World !!! 2 \n"
     ]
    }
   ],
   "source": [
    "print_n_times4('Hello', 'World', '!!!', 2)      # 숫자만 적으면 가변변수로 생각함"
   ]
  },
  {
   "cell_type": "markdown",
   "metadata": {},
   "source": [
    "- 키워드 매개변수 ex) n"
   ]
  },
  {
   "cell_type": "code",
   "execution_count": 17,
   "metadata": {},
   "outputs": [
    {
     "name": "stdout",
     "output_type": "stream",
     "text": [
      "Hello World !!! \n",
      "Hello World !!! \n"
     ]
    }
   ],
   "source": [
    "print_n_times4('Hello', 'World', '!!!', n=2)    # n으로 설정 해주어야 함"
   ]
  },
  {
   "cell_type": "code",
   "execution_count": 19,
   "metadata": {},
   "outputs": [],
   "source": [
    "def test(a, b=10, c=100):\n",
    "    print(a + b + c)"
   ]
  },
  {
   "cell_type": "code",
   "execution_count": 21,
   "metadata": {},
   "outputs": [
    {
     "name": "stdout",
     "output_type": "stream",
     "text": [
      "60\n"
     ]
    }
   ],
   "source": [
    "test(10, 20 ,30)        # a가 가변(*) 매개변수가 아니므로, 20, 30 값이 b, c로 전달됨"
   ]
  },
  {
   "cell_type": "code",
   "execution_count": 23,
   "metadata": {},
   "outputs": [
    {
     "name": "stdout",
     "output_type": "stream",
     "text": [
      "270\n"
     ]
    }
   ],
   "source": [
    "test(c = 200, b = 50, a = 20)       # 위치 매개변수도 키워드 매개변수같이 사용할 수 있음\n",
    "                                    # 키워드 매개변수는 순서는 관계 없음"
   ]
  },
  {
   "cell_type": "code",
   "execution_count": 25,
   "metadata": {},
   "outputs": [
    {
     "name": "stdout",
     "output_type": "stream",
     "text": [
      "50\n"
     ]
    }
   ],
   "source": [
    "test(20, c=20)          # 키워드 매개변수 중 일부만 전달 할 수 있음"
   ]
  },
  {
   "cell_type": "markdown",
   "metadata": {},
   "source": [
    "- 매개변수 순서\n",
    "    1. 위치 매개변수: pos\n",
    "    2. 가변 위치 매개변수: *pos         # 튜플로 들어감\n",
    "    3. 키워드 매개변수: key=value\n",
    "    4. 가변 키워드 매개변수: **kwargs   # 딕셔너리로 들어감"
   ]
  },
  {
   "cell_type": "code",
   "execution_count": 26,
   "metadata": {},
   "outputs": [],
   "source": [
    "def kwargs(**kwargs):                   # 딕셔너리 만들기\n",
    "    for key, value in kwargs.items():\n",
    "        print(key, \":\", value)"
   ]
  },
  {
   "cell_type": "code",
   "execution_count": 28,
   "metadata": {},
   "outputs": [
    {
     "name": "stdout",
     "output_type": "stream",
     "text": [
      "a : 10\n",
      "b : 20\n",
      "c : 30\n"
     ]
    }
   ],
   "source": [
    "kwargs(a= 10, b=20, c=30)"
   ]
  },
  {
   "cell_type": "markdown",
   "metadata": {},
   "source": [
    "- 반환(return)"
   ]
  },
  {
   "cell_type": "code",
   "execution_count": 29,
   "metadata": {},
   "outputs": [],
   "source": [
    "def return_test():\n",
    "    print('Hello')\n",
    "    return          # 호출된 곳으로 반환이 되고\n",
    "    print('World')  # 절대 실행될 수 없는 코드"
   ]
  },
  {
   "cell_type": "code",
   "execution_count": 30,
   "metadata": {},
   "outputs": [
    {
     "name": "stdout",
     "output_type": "stream",
     "text": [
      "Hello\n"
     ]
    }
   ],
   "source": [
    "return_test()"
   ]
  },
  {
   "cell_type": "code",
   "execution_count": 31,
   "metadata": {},
   "outputs": [],
   "source": [
    "def return_test2():\n",
    "    return 'Hello World'"
   ]
  },
  {
   "cell_type": "code",
   "execution_count": 34,
   "metadata": {},
   "outputs": [
    {
     "name": "stdout",
     "output_type": "stream",
     "text": [
      "Hello World\n"
     ]
    }
   ],
   "source": [
    "print(return_test2())       # 리턴 값 출력"
   ]
  },
  {
   "cell_type": "code",
   "execution_count": 36,
   "metadata": {},
   "outputs": [
    {
     "name": "stdout",
     "output_type": "stream",
     "text": [
      "Hello\n",
      "None\n"
     ]
    }
   ],
   "source": [
    "print(return_test())        # 리턴되는 값이 없으므로 None"
   ]
  },
  {
   "cell_type": "markdown",
   "metadata": {},
   "source": [
    "- 여러개의 값 반환"
   ]
  },
  {
   "cell_type": "code",
   "execution_count": 37,
   "metadata": {},
   "outputs": [
    {
     "name": "stdout",
     "output_type": "stream",
     "text": [
      "10 20 30\n"
     ]
    }
   ],
   "source": [
    "def return_multi():\n",
    "    return 10, 20, 30\n",
    "\n",
    "a, b, c = return_multi()\n",
    "print(a, b, c)"
   ]
  },
  {
   "cell_type": "code",
   "execution_count": 39,
   "metadata": {},
   "outputs": [],
   "source": [
    "# start와 end를 매개변수로 받아서 홀수의 합과 짝수의 합을 반환하는 함수\n",
    "# odd_even(start, end)\n"
   ]
  },
  {
   "cell_type": "code",
   "execution_count": 40,
   "metadata": {},
   "outputs": [],
   "source": [
    "sum( i for i in range(1, 101) )"
   ]
  },
  {
   "cell_type": "code",
   "execution_count": 44,
   "metadata": {},
   "outputs": [
    {
     "name": "stdout",
     "output_type": "stream",
     "text": [
      "2500 2550\n"
     ]
    }
   ],
   "source": [
    "def odd_even(start, end):\n",
    "    odd = sum( i for i in range(start, end + 1) if i % 2 == 1)\n",
    "    even = sum( i for i in range(start, end + 1) if i % 2 == 0)\n",
    "    return odd, even\n",
    "\n",
    "odd_sum, even_sum = odd_even(1, 100)\n",
    "\n",
    "print(odd_sum, even_sum)"
   ]
  },
  {
   "cell_type": "code",
   "execution_count": 47,
   "metadata": {},
   "outputs": [
    {
     "name": "stdout",
     "output_type": "stream",
     "text": [
      "(2500, 2550)\n"
     ]
    }
   ],
   "source": [
    "def odd_even(start, end):\n",
    "    return sum(i for i in range(start, end + 1) if i % 2 == 1), \\\n",
    "    sum( i for i in range(start, end + 1) if i % 2 == 0)\n",
    "\n",
    "print(odd_even(1, 100))"
   ]
  }
 ],
 "metadata": {
  "kernelspec": {
   "display_name": "base",
   "language": "python",
   "name": "python3"
  },
  "language_info": {
   "codemirror_mode": {
    "name": "ipython",
    "version": 3
   },
   "file_extension": ".py",
   "mimetype": "text/x-python",
   "name": "python",
   "nbconvert_exporter": "python",
   "pygments_lexer": "ipython3",
   "version": "3.11.4"
  },
  "orig_nbformat": 4
 },
 "nbformat": 4,
 "nbformat_minor": 2
}
